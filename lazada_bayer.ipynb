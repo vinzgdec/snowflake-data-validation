{
 "cells": [
  {
   "cell_type": "code",
   "execution_count": 1,
   "metadata": {},
   "outputs": [
    {
     "name": "stdout",
     "output_type": "stream",
     "text": [
      "Lazada Bayer (March 16 - April 6).xlsx\n",
      "Number of rows: 13511\n",
      "          createTime      orderNumber     status\n",
      "0  06 Apr 2024 23:58  815626858923070  confirmed\n",
      "1  06 Apr 2024 23:36  821582920216964  confirmed\n",
      "2  06 Apr 2024 23:36  821582920216964  confirmed\n",
      "3  06 Apr 2024 23:01  815594271466239  confirmed\n",
      "4  06 Apr 2024 22:06  815569891264333  confirmed \n",
      "\n"
     ]
    }
   ],
   "source": [
    "import pandas as pd\n",
    "import os\n",
    "import warnings\n",
    "\n",
    "pd.set_option('display.expand_frame_repr', False)\n",
    "warnings.filterwarnings(\"ignore\", message=\"Workbook contains no default style, apply openpyxl's default\")\n",
    "\n",
    "shop = 'Bayer'\n",
    "\n",
    "# Order Data cannot be extracted from Lazada Seller Center in one go, so we had to break it down into multiple excel files\n",
    "# All excel files from the same shop are stored in one folder\n",
    "folder = f'Lazada Seller Center/{shop}'\n",
    "excel_files = os.listdir(folder)\n",
    "\n",
    "# Loop over all the excel files in the folder and import only the \"orderNumber\" and \"status\" columns\n",
    "dfs = {}\n",
    "for file in excel_files:\n",
    "    file_path = os.path.join(folder, file)\n",
    "    df = pd.read_excel(file_path, usecols=[\"orderNumber\", \"status\", \"createTime\"])\n",
    "    dfs[file] = df\n",
    "\n",
    "# The result will be one DataFrame with \"orderNumber\" and \"status\" columns for each excel file\n",
    "for file, df in dfs.items():\n",
    "    print(file)\n",
    "    print(\"Number of rows:\", len(df))"
   ]
  },
  {
   "cell_type": "code",
   "execution_count": 2,
   "metadata": {},
   "outputs": [
    {
     "name": "stdout",
     "output_type": "stream",
     "text": [
      "SC Lazada Bayer\n",
      "Number of rows: 13511\n",
      "Number of unique rows: 4890\n"
     ]
    }
   ],
   "source": [
    "# Merge into one DataFrame\n",
    "sc_raw = pd.concat(dfs.values(), keys=dfs.keys(), ignore_index=True)\n",
    "count_sc_raw = len(sc_raw)\n",
    "\n",
    "# Remove duplicate entries\n",
    "sc_unique = sc_raw.drop_duplicates(subset=['orderNumber'])\n",
    "count_sc_unique = len(sc_unique)\n",
    "\n",
    "print(f\"SC Lazada {shop}\")\n",
    "print(\"Number of rows:\", count_sc_raw)\n",
    "print(\"Number of unique rows:\", count_sc_unique)"
   ]
  },
  {
   "cell_type": "code",
   "execution_count": 3,
   "metadata": {},
   "outputs": [
    {
     "name": "stdout",
     "output_type": "stream",
     "text": [
      "Snowflake Lazada Bayer (2024-03-17 - 2024-04-06)\n",
      "Number of rows: 13140\n",
      "Number of unique rows: 4751\n",
      "Number of non-end status rows: 1065\n"
     ]
    }
   ],
   "source": [
    "# Import Snowflake data into a DataFrame\n",
    "snowflake_raw = pd.read_csv(f'Snowflake/Snowflake Lazada {shop}.csv', usecols=['PLFM_ORD_ID','ORD_STAT_END', 'ORD_STAT_PLFM', 'ORDER_DATE'])\n",
    "count_snowflake_raw = len(snowflake_raw)\n",
    "\n",
    "# Determine date range of the dataset\n",
    "date_range = pd.date_range(start=snowflake_raw.loc[:, 'ORDER_DATE'].min(), end=snowflake_raw.loc[:, 'ORDER_DATE'].max())\n",
    "sf_start_date = date_range[0].date()\n",
    "sf_end_date = date_range[-1].date()\n",
    "\n",
    "# Remove duplicates\n",
    "snowflake_unique = snowflake_raw.drop_duplicates(subset=['PLFM_ORD_ID'], ignore_index=True)\n",
    "count_snowflake_unique = len(snowflake_unique)\n",
    "\n",
    "# Get non-end status rows\n",
    "end_status = ['delivered','cancelled','returned']\n",
    "\n",
    "# The ~ negates the condition 'merged_unique['ORD_STAT_END'].isin(end_status)'\n",
    "snowflake_non_end_status = snowflake_unique[~snowflake_unique['ORD_STAT_END'].isin(end_status)]\n",
    "count_snowflake_non_end_status = len(snowflake_non_end_status)\n",
    "\n",
    "print(f\"Snowflake Lazada {shop} ({sf_start_date} - {sf_end_date})\")\n",
    "print(\"Number of rows:\", count_snowflake_raw)\n",
    "print(\"Number of unique rows:\", count_snowflake_unique)\n",
    "print(\"Number of non-end status rows:\", count_snowflake_non_end_status)"
   ]
  },
  {
   "cell_type": "code",
   "execution_count": 7,
   "metadata": {},
   "outputs": [
    {
     "name": "stdout",
     "output_type": "stream",
     "text": [
      "Lazada Bayer SC vs Snowflake (2024-03-17 - 2024-04-06)\n",
      "           createTime      orderNumber     status      PLFM_ORD_ID ORD_STAT_END ORD_STAT_PLFM  ORDER_DATE\n",
      "1   05 Apr 2024 21:23  821038510604358   canceled  821038510604358      pending        packed  2024-04-05\n",
      "2   04 Apr 2024 23:58  814592688032785  delivered  814592688032785      shipped       shipped  2024-04-04\n",
      "3   04 Apr 2024 23:57  820557741732785  delivered  820557741732785      shipped       shipped  2024-04-04\n",
      "4   04 Apr 2024 23:51  820521394377084  confirmed  820521394377084      shipped       shipped  2024-04-04\n",
      "5   04 Apr 2024 23:36  820554310484554  confirmed  820554310484554      shipped       shipped  2024-04-04\n",
      "6   04 Apr 2024 20:04  820412732554676  delivered  820412732554676      shipped       shipped  2024-04-04\n",
      "7   04 Apr 2024 19:22  814463404131910  delivered  814463404131910      shipped       shipped  2024-04-04\n",
      "8   04 Apr 2024 19:18  820382137979866  confirmed  820382137979866      shipped       shipped  2024-04-04\n",
      "9   04 Apr 2024 14:22  820215111101732  delivered  820215111101732      shipped       shipped  2024-04-04\n",
      "10  04 Apr 2024 13:36  814255833871894  confirmed  814255833871894      shipped       shipped  2024-04-04 \n",
      "\n",
      "Number of rows: 4751\n",
      "Number of mismatched non-end status: 1062\n",
      "Percent mismatched non-end status: 22.35 %\n"
     ]
    }
   ],
   "source": [
    "# Merge the Seller Center and Snowflake DataFrames so we could compare them\n",
    "merged_non_end_status = pd.merge(sc_unique, snowflake_non_end_status, left_on=\"orderNumber\", right_on=\"PLFM_ORD_ID\", how=\"inner\")\n",
    "count_merged_non_end_status = len(merged_non_end_status)\n",
    "total = count_snowflake_unique\n",
    "\n",
    "# Count the number of mismatched status\n",
    "mismatched_status = merged_non_end_status[merged_non_end_status[\"status\"] != merged_non_end_status[\"ORD_STAT_PLFM\"]]\n",
    "count_mismatched_status = len(mismatched_status)\n",
    "\n",
    "# Calculate percent mismatched status\n",
    "percent_mismatched_status = (count_mismatched_status / total) * 100\n",
    "\n",
    "print(f\"Lazada {shop} SC vs Snowflake ({sf_start_date} - {sf_end_date})\")\n",
    "print(mismatched_status.head(10), '\\n')\n",
    "print(\"Number of rows:\", total)\n",
    "print(\"Number of mismatched non-end status:\", count_mismatched_status)\n",
    "print(\"Percent mismatched non-end status:\", round(percent_mismatched_status, 2), \"%\")\n"
   ]
  }
 ],
 "metadata": {
  "kernelspec": {
   "display_name": "Python 3",
   "language": "python",
   "name": "python3"
  },
  "language_info": {
   "codemirror_mode": {
    "name": "ipython",
    "version": 3
   },
   "file_extension": ".py",
   "mimetype": "text/x-python",
   "name": "python",
   "nbconvert_exporter": "python",
   "pygments_lexer": "ipython3",
   "version": "3.12.2"
  }
 },
 "nbformat": 4,
 "nbformat_minor": 2
}
