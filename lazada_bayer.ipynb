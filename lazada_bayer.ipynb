{
 "cells": [
  {
   "cell_type": "code",
   "execution_count": 91,
   "metadata": {},
   "outputs": [
    {
     "name": "stdout",
     "output_type": "stream",
     "text": [
      "Lazada Bayer (March 16 - April 6).xlsx\n",
      "Number of rows: 13511\n",
      "          createTime      orderNumber     status\n",
      "0  06 Apr 2024 23:58  815626858923070  confirmed\n",
      "1  06 Apr 2024 23:36  821582920216964  confirmed\n",
      "2  06 Apr 2024 23:36  821582920216964  confirmed\n",
      "3  06 Apr 2024 23:01  815594271466239  confirmed\n",
      "4  06 Apr 2024 22:06  815569891264333  confirmed \n",
      "\n"
     ]
    }
   ],
   "source": [
    "import pandas as pd\n",
    "import os\n",
    "import warnings\n",
    "\n",
    "pd.set_option('display.expand_frame_repr', False)\n",
    "warnings.filterwarnings(\"ignore\", message=\"Workbook contains no default style, apply openpyxl's default\")\n",
    "\n",
    "shop = 'Bayer'\n",
    "sc_start_date = 'March 16'\n",
    "sc_end_date = 'April 6'\n",
    "\n",
    "# Order Data cannot be extracted from Lazada Seller Center in one go, so we had to break it down into multiple excel files\n",
    "# All excel files from the same shop are stored in one folder\n",
    "folder = f'Lazada Seller Center/{shop}'\n",
    "excel_files = os.listdir(folder)\n",
    "\n",
    "# Loop over all the excel files in the folder and import only the \"orderNumber\" and \"status\" columns\n",
    "dfs = {}\n",
    "for file in excel_files:\n",
    "    file_path = os.path.join(folder, file)\n",
    "    df = pd.read_excel(file_path, usecols=[\"orderNumber\", \"status\", \"createTime\"])\n",
    "    dfs[file] = df\n",
    "\n",
    "# The result will be one DataFrame with \"orderNumber\" and \"status\" columns for each excel file\n",
    "for file, df in dfs.items():\n",
    "    print(file)\n",
    "    print(\"Number of rows:\", len(df))\n",
    "    print(df.head(),'\\n')"
   ]
  },
  {
   "cell_type": "code",
   "execution_count": 111,
   "metadata": {},
   "outputs": [
    {
     "name": "stdout",
     "output_type": "stream",
     "text": [
      "Seller Center Lazada Bayer (March 16 - April 6)\n",
      "Number of rows: 13511\n"
     ]
    }
   ],
   "source": [
    "# Merge into one DataFrame\n",
    "seller_center = pd.concat(dfs.values(), keys=dfs.keys(), ignore_index=True)\n",
    "print(f\"Seller Center Lazada {shop} ({sc_start_date} - {sc_end_date})\")\n",
    "print(\"Number of rows:\", len(seller_center))"
   ]
  },
  {
   "cell_type": "code",
   "execution_count": 112,
   "metadata": {},
   "outputs": [
    {
     "name": "stdout",
     "output_type": "stream",
     "text": [
      "Seller Center Lazada Bayer (March 16 - April 6)\n",
      "Number of unique rows: 4890\n"
     ]
    }
   ],
   "source": [
    "# Remove duplicate entries\n",
    "seller_center = seller_center.drop_duplicates(subset=['orderNumber'])\n",
    "print(f\"Seller Center Lazada {shop} ({sc_start_date} - {sc_end_date})\")\n",
    "print(\"Number of unique rows:\", len(seller_center))"
   ]
  },
  {
   "cell_type": "code",
   "execution_count": 102,
   "metadata": {},
   "outputs": [
    {
     "name": "stdout",
     "output_type": "stream",
     "text": [
      "Snowflake Lazada Bayer (2024-03-17 - 2024-04-06)\n",
      "Number of rows: 13140\n",
      "Number of unique rows: 4751 \n",
      "\n",
      "       PLFM_ORD_ID ORD_STAT_END ORD_STAT_PLFM  ORDER_DATE\n",
      "0  819880775302825      shipped       shipped  2024-04-04\n",
      "1  819757326405409    delivered     delivered  2024-04-04\n",
      "2  810197641635216    delivered     confirmed  2024-03-27\n",
      "3  805639459275365    delivered     delivered  2024-03-19\n",
      "4  814153035973422    delivered     delivered  2024-04-04\n"
     ]
    }
   ],
   "source": [
    "# Import Snowflake data into a DataFrame\n",
    "snowflake = pd.read_csv(f'Snowflake/Snowflake Lazada {shop}.csv', usecols=['PLFM_ORD_ID','ORD_STAT_END', 'ORD_STAT_PLFM', 'ORDER_DATE'])\n",
    "\n",
    "# Determine date range of the dataset\n",
    "date_range = pd.date_range(start=snowflake.loc[:, 'ORDER_DATE'].min(), end=snowflake.loc[:, 'ORDER_DATE'].max())\n",
    "sf_start_date = date_range[0].date()\n",
    "sf_end_date = date_range[-1].date()\n",
    "\n",
    "print(f\"Snowflake Lazada {shop} ({sf_start_date} - {sf_end_date})\")\n",
    "print(\"Number of rows:\", len(snowflake))\n",
    "\n",
    "# Remove duplicates\n",
    "snowflake.drop_duplicates(subset=['PLFM_ORD_ID'], inplace=True, ignore_index=True)\n",
    "print(\"Number of unique rows:\", len(snowflake), '\\n')\n",
    "print(snowflake.head())"
   ]
  },
  {
   "cell_type": "code",
   "execution_count": 95,
   "metadata": {},
   "outputs": [
    {
     "name": "stdout",
     "output_type": "stream",
     "text": [
      "Lazada Bayer Seller Center vs Snowflake (2024-03-17 - 2024-04-06)\n",
      "          createTime      orderNumber     status      PLFM_ORD_ID ORD_STAT_END ORD_STAT_PLFM  ORDER_DATE\n",
      "0  06 Apr 2024 23:58  815626858923070  confirmed  815626858923070    delivered     delivered  2024-04-06\n",
      "1  06 Apr 2024 23:36  821582920216964  confirmed  821582920216964    delivered     delivered  2024-04-06\n",
      "2  06 Apr 2024 23:01  815594271466239  confirmed  815594271466239    delivered     delivered  2024-04-06\n",
      "3  06 Apr 2024 22:06  815569891264333  confirmed  815569891264333    delivered     delivered  2024-04-06\n",
      "4  06 Apr 2024 22:02  815593034795114  confirmed  815593034795114    delivered     delivered  2024-04-06 \n",
      "\n",
      "Number of rows: 4751\n",
      "Number of mismatched status: 3012\n",
      "Percent mismatched status: 63.4 %\n"
     ]
    }
   ],
   "source": [
    "# Merge the Seller Center and Snowflake DataFrames so we could compare them\n",
    "merged_df = pd.merge(seller_center, snowflake, left_on=\"orderNumber\", right_on=\"PLFM_ORD_ID\", how=\"inner\")\n",
    "print(f\"Lazada {shop} Seller Center vs Snowflake ({sf_start_date} - {sf_end_date})\")\n",
    "print(merged_df.head(), '\\n')\n",
    "total = len(merged_df)\n",
    "print(\"Number of rows:\", total)\n",
    "\n",
    "# Count the number of mismatched status\n",
    "mismatched_status = merged_df[merged_df[\"status\"] != merged_df[\"ORD_STAT_PLFM\"]]\n",
    "count_mismatched_status = len(mismatched_status)\n",
    "print(\"Number of mismatched status:\", count_mismatched_status)\n",
    "\n",
    "# Calculate percent mismatched status\n",
    "percent_mismatched_status = (count_mismatched_status / total) * 100\n",
    "print(\"Percent mismatched status:\", round(percent_mismatched_status, 2), \"%\")\n"
   ]
  },
  {
   "cell_type": "code",
   "execution_count": 104,
   "metadata": {},
   "outputs": [
    {
     "name": "stdout",
     "output_type": "stream",
     "text": [
      "Seller Center Lazada Bayer\n",
      "Number of unique rows: 4890 \n",
      "\n",
      "status\n",
      "confirmed                          2949\n",
      "delivered                          1464\n",
      "canceled                            413\n",
      "Package Returned                     41\n",
      "In Transit: Returning to seller      11\n",
      "shipped                               6\n",
      "returned                              2\n",
      "ready_to_ship                         2\n",
      "Lost by 3PL                           1\n",
      "Buyer Delivery Failed                 1\n",
      "Name: count, dtype: int64 \n",
      "\n",
      "\n",
      "Snowflake Lazada Bayer\n",
      "Number of unique rows: 4751 \n",
      "\n",
      "ORD_STAT_PLFM\n",
      "delivered               2959\n",
      "shipped                 1007\n",
      "canceled                 368\n",
      "confirmed                307\n",
      "ready_to_ship             41\n",
      "shipped_back_success      34\n",
      "packed                    15\n",
      "shipped_back              15\n",
      "unpaid                     2\n",
      "returned                   2\n",
      "lost_by_3pl                1\n",
      "Name: count, dtype: int64 \n",
      "\n",
      "\n",
      "Snowflake Lazada Bayer\n",
      "Number of unique rows: 4751 \n",
      "\n",
      "ORD_STAT_END\n",
      "delivered    3266\n",
      "shipped      1007\n",
      "cancelled     418\n",
      "rts            41\n",
      "pending        15\n",
      "unpaid          2\n",
      "returned        2\n",
      "Name: count, dtype: int64\n"
     ]
    }
   ],
   "source": [
    "# Check possible values of status column and count \n",
    "print(f\"Seller Center Lazada {shop}\")\n",
    "print(\"Number of unique rows:\", len(seller_center), '\\n')\n",
    "seller_center_status = seller_center['status'].value_counts()\n",
    "print(seller_center_status, '\\n')\n",
    "print()\n",
    "print(f\"Snowflake Lazada {shop}\")\n",
    "print(\"Number of unique rows:\", len(snowflake), '\\n')\n",
    "snowflake_ORD_STAT_PLFM = snowflake['ORD_STAT_PLFM'].value_counts()\n",
    "print(snowflake_ORD_STAT_PLFM, '\\n')\n",
    "print()\n",
    "print(f\"Snowflake Lazada {shop}\")\n",
    "print(\"Number of unique rows:\", len(snowflake), '\\n')\n",
    "snowflake_ORD_STAT_END = snowflake['ORD_STAT_END'].value_counts()\n",
    "print(snowflake_ORD_STAT_END)"
   ]
  },
  {
   "cell_type": "code",
   "execution_count": 105,
   "metadata": {},
   "outputs": [
    {
     "name": "stdout",
     "output_type": "stream",
     "text": [
      "Seller Center Lazada Bayer Non-End Status\n",
      "Number of rows: 8 \n",
      "\n",
      "status\n",
      "shipped          6\n",
      "ready_to_ship    2\n",
      "Name: count, dtype: int64 \n",
      "\n",
      "\n",
      "Snowflake Lazada Bayer Non-End Status\n",
      "Number of rows: 1080 \n",
      "\n",
      "ORD_STAT_PLFM\n",
      "shipped          1007\n",
      "ready_to_ship      41\n",
      "packed             15\n",
      "shipped_back       15\n",
      "unpaid              2\n",
      "Name: count, dtype: int64\n"
     ]
    }
   ],
   "source": [
    "# Get non-end status rows (unpaid, packed, shipped, shipped back, ready tp ship)\n",
    "non_end_status = ['unpaid', 'packed', 'shipped','shipped_back', 'ready_to_ship']\n",
    "\n",
    "seller_center = seller_center[seller_center['status'].isin(non_end_status)]\n",
    "snowflake = snowflake[snowflake['ORD_STAT_PLFM'].isin(non_end_status)]\n",
    "\n",
    "print(f\"Seller Center Lazada {shop} Non-End Status\")\n",
    "print(\"Number of rows:\", len(seller_center), '\\n')\n",
    "seller_center_status = seller_center['status'].value_counts()\n",
    "print(seller_center_status, '\\n')\n",
    "print()\n",
    "print(f\"Snowflake Lazada {shop} Non-End Status\")\n",
    "print(\"Number of rows:\", len(snowflake), '\\n')\n",
    "snowflake_status = snowflake['ORD_STAT_PLFM'].value_counts()\n",
    "print(snowflake_status)"
   ]
  },
  {
   "cell_type": "code",
   "execution_count": 106,
   "metadata": {},
   "outputs": [
    {
     "name": "stdout",
     "output_type": "stream",
     "text": [
      "Lazada Bayer Seller Center vs Snowflake (2024-03-17 - 2024-04-06)\n",
      "          createTime      orderNumber         status      PLFM_ORD_ID ORD_STAT_END  ORD_STAT_PLFM  ORDER_DATE\n",
      "0  06 Apr 2024 11:20  821237174517469        shipped  821237174517469      shipped        shipped  2024-04-06\n",
      "1  30 Mar 2024 15:59  817698101200351        shipped  817698101200351      shipped        shipped  2024-03-30\n",
      "2  26 Mar 2024 14:43  815541598055059  ready_to_ship  815541598055059      shipped        shipped  2024-03-26\n",
      "3  26 Mar 2024 00:13  809438803786980  ready_to_ship  809438803786980          rts  ready_to_ship  2024-03-26 \n",
      "\n",
      "Number of rows: 4751\n",
      "Number of mismatched status: 1\n",
      "Percent mismatched status: 0.02 %\n"
     ]
    }
   ],
   "source": [
    "# Merge the Seller Center and Snowflake DataFrames so we could compare them\n",
    "final_df = pd.merge(seller_center, snowflake, left_on=\"orderNumber\", right_on=\"PLFM_ORD_ID\", how=\"inner\")\n",
    "print(f\"Lazada {shop} Seller Center vs Snowflake ({sf_start_date} - {sf_end_date})\")\n",
    "print(final_df.head(), '\\n')\n",
    "print(\"Number of rows:\", total)\n",
    "\n",
    "# Count the number of mismatched status\n",
    "mismatched_status = final_df[final_df[\"status\"] != final_df[\"ORD_STAT_PLFM\"]]\n",
    "count_mismatched_status = len(mismatched_status)\n",
    "print(\"Number of mismatched status:\", count_mismatched_status)\n",
    "\n",
    "# Calculate percent mismatched status\n",
    "percent_mismatched_status = (count_mismatched_status / total) * 100\n",
    "print(\"Percent mismatched status:\", round(percent_mismatched_status, 2), \"%\")\n"
   ]
  }
 ],
 "metadata": {
  "kernelspec": {
   "display_name": "Python 3",
   "language": "python",
   "name": "python3"
  },
  "language_info": {
   "codemirror_mode": {
    "name": "ipython",
    "version": 3
   },
   "file_extension": ".py",
   "mimetype": "text/x-python",
   "name": "python",
   "nbconvert_exporter": "python",
   "pygments_lexer": "ipython3",
   "version": "3.12.2"
  }
 },
 "nbformat": 4,
 "nbformat_minor": 2
}
