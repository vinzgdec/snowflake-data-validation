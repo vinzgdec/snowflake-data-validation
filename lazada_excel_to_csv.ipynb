{
 "cells": [
  {
   "cell_type": "code",
   "execution_count": 2,
   "metadata": {},
   "outputs": [
    {
     "name": "stdout",
     "output_type": "stream",
     "text": [
      "Converting to csv: Lazada NutriAsia (Mar 17 - Mar 27).xlsx\n"
     ]
    },
    {
     "name": "stdout",
     "output_type": "stream",
     "text": [
      "Done converting. Took 321.44 seconds\n",
      "Converting to csv: Lazada NutriAsia (Mar 28 - Apr 6).xlsx\n",
      "Done converting. Took 259.92 seconds\n"
     ]
    }
   ],
   "source": [
    "import pandas as pd\n",
    "import os\n",
    "from time import time\n",
    "import warnings\n",
    "\n",
    "warnings.filterwarnings(\"ignore\", message=\"Workbook contains no default style, apply openpyxl's default\")\n",
    "\n",
    "shop = 'NutriAsia'\n",
    "sc_id = 'PH7S2X8ZW4'\n",
    "extract_date = '2024-04-12T16:23:00'\n",
    "\n",
    "folder = f'Lazada Seller Center/{shop}'\n",
    "excel_files = os.listdir(folder)\n",
    "\n",
    "for file in excel_files:\n",
    "    t_start = time()\n",
    "    print(f\"Converting to csv: {file}\")\n",
    "    file_path = os.path.join(folder, file)\n",
    "    df = pd.read_excel(file_path)\n",
    "    df.insert(0, 'EXTRACT_DATE', extract_date)\n",
    "    df.insert(0, 'SC_ID', sc_id)\n",
    "    if file.endswith(\".xlsx\"):\n",
    "        csv_file = os.path.splitext(file)[0] + \".csv\"\n",
    "    df.to_csv(f'S3 Files/end_status_report/lzd/{csv_file}', index=False)\n",
    "    t_end = time()\n",
    "    print('Done converting. Took %.2f seconds' % (t_end - t_start))"
   ]
  },
  {
   "cell_type": "code",
   "execution_count": 1,
   "metadata": {},
   "outputs": [
    {
     "name": "stdout",
     "output_type": "stream",
     "text": [
      "Converting to csv: Lazada Bayer (March 24 - April 13).xlsx\n",
      "Done converting. Took 40.09 seconds\n"
     ]
    }
   ],
   "source": [
    "import pandas as pd\n",
    "import os\n",
    "from time import time\n",
    "import warnings\n",
    "\n",
    "warnings.filterwarnings(\"ignore\", message=\"Workbook contains no default style, apply openpyxl's default\")\n",
    "\n",
    "shop = 'Bayer 2'\n",
    "sc_id = 'PHJ2GADL'\n",
    "extract_date = '2024-04-19T16:18:32'\n",
    "\n",
    "folder = f'Lazada Seller Center/{shop}'\n",
    "excel_files = os.listdir(folder)\n",
    "\n",
    "for file in excel_files:\n",
    "    t_start = time()\n",
    "    print(f\"Converting to csv: {file}\")\n",
    "    file_path = os.path.join(folder, file)\n",
    "    df = pd.read_excel(file_path)\n",
    "    df.insert(0, 'EXTRACT_DATE', extract_date)\n",
    "    df.insert(0, 'SC_ID', sc_id)\n",
    "    if file.endswith(\".xlsx\"):\n",
    "        csv_file = os.path.splitext(file)[0] + \".csv\"\n",
    "    df.to_csv(f'S3 Files/end_status_report/lzd/{csv_file}', index=False)\n",
    "    t_end = time()\n",
    "    print('Done converting. Took %.2f seconds' % (t_end - t_start))"
   ]
  }
 ],
 "metadata": {
  "kernelspec": {
   "display_name": "Python 3",
   "language": "python",
   "name": "python3"
  },
  "language_info": {
   "codemirror_mode": {
    "name": "ipython",
    "version": 3
   },
   "file_extension": ".py",
   "mimetype": "text/x-python",
   "name": "python",
   "nbconvert_exporter": "python",
   "pygments_lexer": "ipython3",
   "version": "3.12.2"
  }
 },
 "nbformat": 4,
 "nbformat_minor": 2
}
