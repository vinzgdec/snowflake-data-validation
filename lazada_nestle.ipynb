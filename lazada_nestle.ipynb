{
 "cells": [
  {
   "cell_type": "code",
   "execution_count": 5,
   "metadata": {},
   "outputs": [
    {
     "name": "stdout",
     "output_type": "stream",
     "text": [
      "Lazada Nestle (April 5 - April 6).xlsx\n",
      "Number of rows: 35452\n",
      "          createTime      orderNumber     status\n",
      "0  06 Apr 2024 23:59  815632621032626  delivered\n",
      "1  06 Apr 2024 23:59  815632621032626  delivered\n",
      "2  06 Apr 2024 23:59  815632621032626  delivered\n",
      "3  06 Apr 2024 23:58  815615071012948  delivered\n",
      "4  06 Apr 2024 23:58  821590341526793  confirmed \n",
      "\n",
      "Lazada Nestle (March 16- March 21).xlsx\n",
      "Number of rows: 92556\n",
      "          createTime      orderNumber    status\n",
      "0  21 Mar 2024 23:59  813018543764322  canceled\n",
      "1  21 Mar 2024 23:59  813018543764322  canceled\n",
      "2  21 Mar 2024 23:59  813018543764322  canceled\n",
      "3  21 Mar 2024 23:59  813018543764322  canceled\n",
      "4  21 Mar 2024 23:59  813018543764322  canceled \n",
      "\n",
      "Lazada Nestle (March 22 - March 24).xlsx\n",
      "Number of rows: 71663\n",
      "          createTime      orderNumber            status\n",
      "0  24 Mar 2024 23:59  814571149431252  Package Returned\n",
      "1  24 Mar 2024 23:59  814571149431252  Package Returned\n",
      "2  24 Mar 2024 23:59  814571149431252          canceled\n",
      "3  24 Mar 2024 23:59  814571149431252  Package Returned\n",
      "4  24 Mar 2024 23:59  814546776130349         delivered \n",
      "\n",
      "Lazada Nestle (March 25 - March 26).xlsx\n",
      "Number of rows: 88734\n",
      "          createTime      orderNumber     status\n",
      "0  26 Mar 2024 23:59  815867374654507  confirmed\n",
      "1  26 Mar 2024 23:59  815867374654507  confirmed\n",
      "2  26 Mar 2024 23:59  815867374654507  confirmed\n",
      "3  26 Mar 2024 23:59  815856177736461  delivered\n",
      "4  26 Mar 2024 23:59  815859992396629  confirmed \n",
      "\n",
      "Lazada Nestle (March 27 - March 30).xlsx\n",
      "Number of rows: 90174\n",
      "          createTime      orderNumber     status\n",
      "0  30 Mar 2024 23:59  817848139284940  delivered\n",
      "1  30 Mar 2024 23:59  817848139284940  delivered\n",
      "2  30 Mar 2024 23:59  811951848344516  confirmed\n",
      "3  30 Mar 2024 23:59  811951848344516  confirmed\n",
      "4  30 Mar 2024 23:59  811951848344516  confirmed \n",
      "\n",
      "Lazada Nestle (March 31 - April 4).xlsx\n",
      "Number of rows: 82870\n",
      "          createTime      orderNumber     status\n",
      "0  04 Apr 2024 23:59  820550746878349  delivered\n",
      "1  04 Apr 2024 23:59  820567704626120  confirmed\n",
      "2  04 Apr 2024 23:59  814616614818623  delivered\n",
      "3  04 Apr 2024 23:59  814616614818623  delivered\n",
      "4  04 Apr 2024 23:59  820557332936791  confirmed \n",
      "\n"
     ]
    }
   ],
   "source": [
    "import pandas as pd\n",
    "import os\n",
    "import warnings\n",
    "\n",
    "pd.set_option('display.expand_frame_repr', False)\n",
    "warnings.filterwarnings(\"ignore\", message=\"Workbook contains no default style, apply openpyxl's default\")\n",
    "\n",
    "shop = 'Nestle'\n",
    "\n",
    "# Order Data cannot be extracted from Lazada Seller Center in one go, so we had to break it down into multiple excel files\n",
    "# All excel files from the same shop are stored in one folder\n",
    "folder = f'Lazada Seller Center/{shop}'\n",
    "excel_files = os.listdir(folder)\n",
    "\n",
    "# Loop over all the excel files in the folder and import only the \"orderNumber\" and \"status\" columns\n",
    "dfs = {}\n",
    "for file in excel_files:\n",
    "    file_path = os.path.join(folder, file)\n",
    "    df = pd.read_excel(file_path, usecols=[\"orderNumber\", \"status\", \"createTime\"])\n",
    "    dfs[file] = df\n",
    "\n",
    "# The result will be one DataFrame with \"orderNumber\" and \"status\" columns for each excel file\n",
    "for file, df in dfs.items():\n",
    "    print(file)\n",
    "    print(\"Number of rows:\", len(df))\n",
    "    print(df.head(),'\\n')"
   ]
  },
  {
   "cell_type": "code",
   "execution_count": 6,
   "metadata": {},
   "outputs": [
    {
     "name": "stdout",
     "output_type": "stream",
     "text": [
      "SC Lazada Nestle\n",
      "Number of rows: 461449\n",
      "Number of unique rows: 137834\n"
     ]
    }
   ],
   "source": [
    "# Merge into one DataFrame\n",
    "sc_raw = pd.concat(dfs.values(), keys=dfs.keys(), ignore_index=True)\n",
    "count_sc_raw = len(sc_raw)\n",
    "\n",
    "# Remove duplicate entries\n",
    "sc_unique = sc_raw.drop_duplicates(subset=['orderNumber'])\n",
    "count_sc_unique = len(sc_unique)\n",
    "\n",
    "print(f\"SC Lazada {shop}\")\n",
    "print(\"Number of rows:\", count_sc_raw)\n",
    "print(\"Number of unique rows:\", count_sc_unique)"
   ]
  },
  {
   "cell_type": "code",
   "execution_count": 7,
   "metadata": {},
   "outputs": [
    {
     "name": "stdout",
     "output_type": "stream",
     "text": [
      "Snowflake Lazada Nestle (2024-03-16 - 2024-04-06)\n",
      "Number of rows: 529104\n",
      "Number of unique rows: 152828\n",
      "Number of non-end status rows: 17303\n"
     ]
    }
   ],
   "source": [
    "# Import Snowflake data into a DataFrame\n",
    "snowflake_raw = pd.read_csv(f'Snowflake/Snowflake Lazada {shop}.csv', usecols=['PLFM_ORD_ID','ORD_STAT_END', 'ORD_STAT_PLFM', 'ORDER_DATE'])\n",
    "count_snowflake_raw = len(snowflake_raw)\n",
    "\n",
    "# Determine date range of the dataset\n",
    "date_range = pd.date_range(start=snowflake_raw.loc[:, 'ORDER_DATE'].min(), end=snowflake_raw.loc[:, 'ORDER_DATE'].max())\n",
    "sf_start_date = date_range[0].date()\n",
    "sf_end_date = date_range[-1].date()\n",
    "\n",
    "# Remove duplicates\n",
    "snowflake_unique = snowflake_raw.drop_duplicates(subset=['PLFM_ORD_ID'], ignore_index=True)\n",
    "count_snowflake_unique = len(snowflake_unique)\n",
    "\n",
    "# Get non-end status rows\n",
    "end_status = ['delivered','cancelled','returned']\n",
    "\n",
    "# The ~ negates the condition 'merged_unique['ORD_STAT_END'].isin(end_status)'\n",
    "snowflake_non_end_status = snowflake_unique[~snowflake_unique['ORD_STAT_END'].isin(end_status)]\n",
    "count_snowflake_non_end_status = len(snowflake_non_end_status)\n",
    "\n",
    "print(f\"Snowflake Lazada {shop} ({sf_start_date} - {sf_end_date})\")\n",
    "print(\"Number of rows:\", count_snowflake_raw)\n",
    "print(\"Number of unique rows:\", count_snowflake_unique)\n",
    "print(\"Number of non-end status rows:\", count_snowflake_non_end_status)"
   ]
  },
  {
   "cell_type": "code",
   "execution_count": 8,
   "metadata": {},
   "outputs": [
    {
     "name": "stdout",
     "output_type": "stream",
     "text": [
      "Lazada Nestle SC vs Snowflake (2024-03-16 - 2024-04-06)\n",
      "           createTime      orderNumber     status      PLFM_ORD_ID ORD_STAT_END ORD_STAT_PLFM  ORDER_DATE\n",
      "59  05 Apr 2024 17:26  820935115096212  delivered  820935115096212      shipped       shipped  2024-04-05\n",
      "61  05 Apr 2024 17:04  820933101652844  confirmed  820933101652844      shipped       shipped  2024-04-05\n",
      "63  05 Apr 2024 16:31  820898547511615  confirmed  820898547511615      shipped       shipped  2024-04-05\n",
      "64  05 Apr 2024 16:29  814927058216731  delivered  814927058216731      shipped       shipped  2024-04-05\n",
      "81  05 Apr 2024 02:28  820597118848373  delivered  820597118848373      shipped       shipped  2024-04-05\n",
      "82  05 Apr 2024 02:03  814613098890262  delivered  814613098890262      shipped       shipped  2024-04-05\n",
      "83  05 Apr 2024 00:55  814632823164358  delivered  814632823164358      shipped       shipped  2024-04-05\n",
      "84  05 Apr 2024 00:54  814621055412130  confirmed  814621055412130      shipped       shipped  2024-04-05\n",
      "85  05 Apr 2024 00:41  814628419116255  delivered  814628419116255      shipped       shipped  2024-04-05\n",
      "86  05 Apr 2024 00:27  820554361884229  confirmed  820554361884229      shipped       shipped  2024-04-05 \n",
      "\n",
      "Number of rows: 152828\n",
      "Number of mismatched non-end status: 17059\n",
      "Percent mismatched non-end status: 11.16 %\n"
     ]
    }
   ],
   "source": [
    "# Merge the Seller Center and Snowflake DataFrames so we could compare them\n",
    "merged_non_end_status = pd.merge(sc_unique, snowflake_non_end_status, left_on=\"orderNumber\", right_on=\"PLFM_ORD_ID\", how=\"inner\")\n",
    "count_merged_non_end_status = len(merged_non_end_status)\n",
    "total = count_snowflake_unique\n",
    "\n",
    "# Count the number of mismatched status\n",
    "mismatched_status = merged_non_end_status[merged_non_end_status[\"status\"] != merged_non_end_status[\"ORD_STAT_PLFM\"]]\n",
    "count_mismatched_status = len(mismatched_status)\n",
    "\n",
    "# Calculate percent mismatched status\n",
    "percent_mismatched_status = (count_mismatched_status / total) * 100\n",
    "\n",
    "print(f\"Lazada {shop} SC vs Snowflake ({sf_start_date} - {sf_end_date})\")\n",
    "print(mismatched_status.head(10), '\\n')\n",
    "print(\"Number of rows:\", total)\n",
    "print(\"Number of mismatched non-end status:\", count_mismatched_status)\n",
    "print(\"Percent mismatched non-end status:\", round(percent_mismatched_status, 2), \"%\")\n"
   ]
  }
 ],
 "metadata": {
  "kernelspec": {
   "display_name": "Python 3",
   "language": "python",
   "name": "python3"
  },
  "language_info": {
   "codemirror_mode": {
    "name": "ipython",
    "version": 3
   },
   "file_extension": ".py",
   "mimetype": "text/x-python",
   "name": "python",
   "nbconvert_exporter": "python",
   "pygments_lexer": "ipython3",
   "version": "3.12.2"
  }
 },
 "nbformat": 4,
 "nbformat_minor": 2
}
