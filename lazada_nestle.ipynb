{
 "cells": [
  {
   "cell_type": "code",
   "execution_count": 1,
   "metadata": {},
   "outputs": [
    {
     "name": "stdout",
     "output_type": "stream",
     "text": [
      "Lazada Nestle (April 5 - April 6).xlsx\n",
      "Number of rows: 35452\n",
      "          createTime      orderNumber     status\n",
      "0  06 Apr 2024 23:59  815632621032626  delivered\n",
      "1  06 Apr 2024 23:59  815632621032626  delivered\n",
      "2  06 Apr 2024 23:59  815632621032626  delivered\n",
      "3  06 Apr 2024 23:58  815615071012948  delivered\n",
      "4  06 Apr 2024 23:58  821590341526793  confirmed \n",
      "\n",
      "Lazada Nestle (March 16- March 21).xlsx\n",
      "Number of rows: 92556\n",
      "          createTime      orderNumber    status\n",
      "0  21 Mar 2024 23:59  813018543764322  canceled\n",
      "1  21 Mar 2024 23:59  813018543764322  canceled\n",
      "2  21 Mar 2024 23:59  813018543764322  canceled\n",
      "3  21 Mar 2024 23:59  813018543764322  canceled\n",
      "4  21 Mar 2024 23:59  813018543764322  canceled \n",
      "\n",
      "Lazada Nestle (March 22 - March 24).xlsx\n",
      "Number of rows: 71663\n",
      "          createTime      orderNumber            status\n",
      "0  24 Mar 2024 23:59  814571149431252  Package Returned\n",
      "1  24 Mar 2024 23:59  814571149431252  Package Returned\n",
      "2  24 Mar 2024 23:59  814571149431252          canceled\n",
      "3  24 Mar 2024 23:59  814571149431252  Package Returned\n",
      "4  24 Mar 2024 23:59  814546776130349         delivered \n",
      "\n",
      "Lazada Nestle (March 25 - March 26).xlsx\n",
      "Number of rows: 88734\n",
      "          createTime      orderNumber     status\n",
      "0  26 Mar 2024 23:59  815867374654507  confirmed\n",
      "1  26 Mar 2024 23:59  815867374654507  confirmed\n",
      "2  26 Mar 2024 23:59  815867374654507  confirmed\n",
      "3  26 Mar 2024 23:59  815856177736461  delivered\n",
      "4  26 Mar 2024 23:59  815859992396629  confirmed \n",
      "\n",
      "Lazada Nestle (March 27 - March 30).xlsx\n",
      "Number of rows: 90174\n",
      "          createTime      orderNumber     status\n",
      "0  30 Mar 2024 23:59  817848139284940  delivered\n",
      "1  30 Mar 2024 23:59  817848139284940  delivered\n",
      "2  30 Mar 2024 23:59  811951848344516  confirmed\n",
      "3  30 Mar 2024 23:59  811951848344516  confirmed\n",
      "4  30 Mar 2024 23:59  811951848344516  confirmed \n",
      "\n",
      "Lazada Nestle (March 31 - April 4).xlsx\n",
      "Number of rows: 82870\n",
      "          createTime      orderNumber     status\n",
      "0  04 Apr 2024 23:59  820550746878349  delivered\n",
      "1  04 Apr 2024 23:59  820567704626120  confirmed\n",
      "2  04 Apr 2024 23:59  814616614818623  delivered\n",
      "3  04 Apr 2024 23:59  814616614818623  delivered\n",
      "4  04 Apr 2024 23:59  820557332936791  confirmed \n",
      "\n"
     ]
    }
   ],
   "source": [
    "import pandas as pd\n",
    "import os\n",
    "import warnings\n",
    "\n",
    "pd.set_option('display.expand_frame_repr', False)\n",
    "warnings.filterwarnings(\"ignore\", message=\"Workbook contains no default style, apply openpyxl's default\")\n",
    "\n",
    "shop = 'Nestle'\n",
    "sc_start_date = 'March 16'\n",
    "sc_end_date = 'April 6'\n",
    "\n",
    "# Order Data cannot be extracted from Lazada Seller Center in one go, so we had to break it down into multiple excel files\n",
    "# All excel files from the same shop are stored in one folder\n",
    "folder = f'Lazada Seller Center/{shop}'\n",
    "excel_files = os.listdir(folder)\n",
    "\n",
    "# Loop over all the excel files in the folder and import only the \"orderNumber\" and \"status\" columns\n",
    "dfs = {}\n",
    "for file in excel_files:\n",
    "    file_path = os.path.join(folder, file)\n",
    "    df = pd.read_excel(file_path, usecols=[\"orderNumber\", \"status\", \"createTime\"])\n",
    "    dfs[file] = df\n",
    "\n",
    "# The result will be one DataFrame with \"orderNumber\" and \"status\" columns for each excel file\n",
    "for file, df in dfs.items():\n",
    "    print(file)\n",
    "    print(\"Number of rows:\", len(df))\n",
    "    print(df.head(),'\\n')"
   ]
  },
  {
   "cell_type": "code",
   "execution_count": 9,
   "metadata": {},
   "outputs": [
    {
     "name": "stdout",
     "output_type": "stream",
     "text": [
      "Seller Center Lazada Nestle (March 16 - April 6)\n",
      "Number of rows: 461449\n"
     ]
    }
   ],
   "source": [
    "# Merge into one DataFrame\n",
    "seller_center = pd.concat(dfs.values(), keys=dfs.keys(), ignore_index=True)\n",
    "print(f\"Seller Center Lazada {shop} ({sc_start_date} - {sc_end_date})\")\n",
    "print(\"Number of rows:\", len(seller_center))"
   ]
  },
  {
   "cell_type": "code",
   "execution_count": 10,
   "metadata": {},
   "outputs": [
    {
     "name": "stdout",
     "output_type": "stream",
     "text": [
      "Seller Center Lazada Nestle Nestle (March 16 - April 6)\n",
      "Number of unique rows: 137834\n"
     ]
    }
   ],
   "source": [
    "# Remove duplicate entries\n",
    "seller_center = seller_center.drop_duplicates(subset=['orderNumber'])\n",
    "print(f\"Seller Center Lazada {shop} {shop} ({sc_start_date} - {sc_end_date})\")\n",
    "print(\"Number of unique rows:\", len(seller_center))"
   ]
  },
  {
   "cell_type": "code",
   "execution_count": 11,
   "metadata": {},
   "outputs": [
    {
     "name": "stdout",
     "output_type": "stream",
     "text": [
      "Snowflake Lazada Nestle (2024-03-16 - 2024-04-06)\n",
      "Number of rows: 529104\n",
      "Number of unique rows: 152828 \n",
      "\n",
      "       PLFM_ORD_ID ORD_STAT_END ORD_STAT_PLFM  ORDER_DATE\n",
      "0  815578285042883    delivered     delivered  2024-04-06\n",
      "1  810486785429988    delivered     delivered  2024-03-17\n",
      "2  804229679871645    delivered     delivered  2024-03-16\n",
      "3  814956760800080    delivered     delivered  2024-03-25\n",
      "4  811872068558404      shipped       shipped  2024-03-30\n"
     ]
    }
   ],
   "source": [
    "# Import Snowflake data into a DataFrame\n",
    "snowflake = pd.read_csv(f'Snowflake/Snowflake Lazada {shop}.csv', usecols=['PLFM_ORD_ID','ORD_STAT_END', 'ORD_STAT_PLFM', 'ORDER_DATE'])\n",
    "\n",
    "# Determine date range of the dataset\n",
    "date_range = pd.date_range(start=snowflake.loc[:, 'ORDER_DATE'].min(), end=snowflake.loc[:, 'ORDER_DATE'].max())\n",
    "sf_start_date = date_range[0].date()\n",
    "sf_end_date = date_range[-1].date()\n",
    "\n",
    "print(f\"Snowflake Lazada {shop} ({sf_start_date} - {sf_end_date})\")\n",
    "print(\"Number of rows:\", len(snowflake))\n",
    "\n",
    "# Remove duplicates\n",
    "snowflake.drop_duplicates(subset=['PLFM_ORD_ID'], inplace=True, ignore_index=True)\n",
    "print(\"Number of unique rows:\", len(snowflake), '\\n')\n",
    "print(snowflake.head())"
   ]
  },
  {
   "cell_type": "code",
   "execution_count": 12,
   "metadata": {},
   "outputs": [
    {
     "name": "stdout",
     "output_type": "stream",
     "text": [
      "Lazada Nestle Seller Center vs Snowflake (2024-03-16 - 2024-04-06)\n",
      "          createTime      orderNumber     status      PLFM_ORD_ID ORD_STAT_END ORD_STAT_PLFM  ORDER_DATE\n",
      "0  06 Apr 2024 23:59  815632621032626  delivered  815632621032626    delivered     delivered  2024-04-06\n",
      "1  06 Apr 2024 23:58  815615071012948  delivered  815615071012948    delivered     delivered  2024-04-06\n",
      "2  06 Apr 2024 23:58  821590341526793  confirmed  821590341526793    delivered     confirmed  2024-04-06\n",
      "3  06 Apr 2024 23:58  815637221592412    shipped  815637221592412    delivered     delivered  2024-04-06\n",
      "4  06 Apr 2024 23:58  815633419064003  delivered  815633419064003    delivered     delivered  2024-04-06 \n",
      "\n",
      "Number of rows: 136870\n",
      "Number of mismatched status: 59135\n",
      "Percent mismatched status: 43.21 %\n"
     ]
    }
   ],
   "source": [
    "# Merge the Seller Center and Snowflake DataFrames so we could compare them\n",
    "merged_df = pd.merge(seller_center, snowflake, left_on=\"orderNumber\", right_on=\"PLFM_ORD_ID\", how=\"inner\")\n",
    "print(f\"Lazada {shop} Seller Center vs Snowflake ({sf_start_date} - {sf_end_date})\")\n",
    "print(merged_df.head(), '\\n')\n",
    "total = len(merged_df)\n",
    "print(\"Number of rows:\", total)\n",
    "\n",
    "# Count the number of mismatched status\n",
    "mismatched_status = merged_df[merged_df[\"status\"] != merged_df[\"ORD_STAT_PLFM\"]]\n",
    "count_mismatched_status = len(mismatched_status)\n",
    "print(\"Number of mismatched status:\", count_mismatched_status)\n",
    "\n",
    "# Calculate percent mismatched status\n",
    "percent_mismatched_status = (count_mismatched_status / total) * 100\n",
    "print(\"Percent mismatched status:\", round(percent_mismatched_status, 2), \"%\")\n"
   ]
  },
  {
   "cell_type": "code",
   "execution_count": 13,
   "metadata": {},
   "outputs": [
    {
     "name": "stdout",
     "output_type": "stream",
     "text": [
      "Seller Center Lazada Nestle\n",
      "Number of unique rows: 137834 \n",
      "\n",
      "status\n",
      "confirmed                          84963\n",
      "delivered                          36064\n",
      "canceled                           15192\n",
      "Package Returned                     967\n",
      "shipped                              346\n",
      "ready_to_ship                        116\n",
      "In Transit: Returning to seller      112\n",
      "Lost by 3PL                           33\n",
      "Buyer Delivery Failed                 15\n",
      "Package scrapped                      14\n",
      "Damaged by 3PL                         9\n",
      "Seller Delivery Failed                 2\n",
      "returned                               1\n",
      "Name: count, dtype: int64 \n",
      "\n",
      "\n",
      "Snowflake Lazada Nestle\n",
      "Number of unique rows: 152828 \n",
      "\n",
      "ORD_STAT_PLFM\n",
      "delivered               78995\n",
      "confirmed               39249\n",
      "canceled                16010\n",
      "shipped                 15951\n",
      "shipped_back_success      902\n",
      "ready_to_ship             901\n",
      "packed                    349\n",
      "shipped_back              278\n",
      "unpaid                     82\n",
      "lost_by_3pl                47\n",
      "pending                    20\n",
      "failed_delivery            18\n",
      "damaged_by_3pl             13\n",
      "package_scrapped           12\n",
      "returned                    1\n",
      "Name: count, dtype: int64 \n",
      "\n",
      "\n",
      "Snowflake Lazada Nestle\n",
      "Number of unique rows: 152828 \n",
      "\n",
      "ORD_STAT_END\n",
      "delivered    118244\n",
      "cancelled     17280\n",
      "shipped       15951\n",
      "rts             901\n",
      "pending         369\n",
      "unpaid           82\n",
      "returned          1\n",
      "Name: count, dtype: int64\n"
     ]
    }
   ],
   "source": [
    "# Check possible values of status column and count \n",
    "print(f\"Seller Center Lazada {shop}\")\n",
    "print(\"Number of unique rows:\", len(seller_center), '\\n')\n",
    "seller_center_status = seller_center['status'].value_counts()\n",
    "print(seller_center_status, '\\n')\n",
    "print()\n",
    "print(f\"Snowflake Lazada {shop}\")\n",
    "print(\"Number of unique rows:\", len(snowflake), '\\n')\n",
    "snowflake_ORD_STAT_PLFM = snowflake['ORD_STAT_PLFM'].value_counts()\n",
    "print(snowflake_ORD_STAT_PLFM, '\\n')\n",
    "print()\n",
    "print(f\"Snowflake Lazada {shop}\")\n",
    "print(\"Number of unique rows:\", len(snowflake), '\\n')\n",
    "snowflake_ORD_STAT_END = snowflake['ORD_STAT_END'].value_counts()\n",
    "print(snowflake_ORD_STAT_END)"
   ]
  },
  {
   "cell_type": "code",
   "execution_count": 14,
   "metadata": {},
   "outputs": [
    {
     "name": "stdout",
     "output_type": "stream",
     "text": [
      "Seller Center Lazada Nestle Non-End Status\n",
      "Number of rows: 462 \n",
      "\n",
      "status\n",
      "shipped          346\n",
      "ready_to_ship    116\n",
      "Name: count, dtype: int64 \n",
      "\n",
      "\n",
      "Snowflake Lazada Nestle Non-End Status\n",
      "Number of rows: 17561 \n",
      "\n",
      "ORD_STAT_PLFM\n",
      "shipped          15951\n",
      "ready_to_ship      901\n",
      "packed             349\n",
      "shipped_back       278\n",
      "unpaid              82\n",
      "Name: count, dtype: int64\n"
     ]
    }
   ],
   "source": [
    "# Get non-end status rows (unpaid, packed, shipped, shipped back, ready tp ship)\n",
    "non_end_status = ['unpaid', 'packed', 'shipped','shipped_back', 'ready_to_ship']\n",
    "\n",
    "seller_center = seller_center[seller_center['status'].isin(non_end_status)]\n",
    "snowflake = snowflake[snowflake['ORD_STAT_PLFM'].isin(non_end_status)]\n",
    "\n",
    "print(f\"Seller Center Lazada {shop} Non-End Status\")\n",
    "print(\"Number of rows:\", len(seller_center), '\\n')\n",
    "seller_center_status = seller_center['status'].value_counts()\n",
    "print(seller_center_status, '\\n')\n",
    "print()\n",
    "print(f\"Snowflake Lazada {shop} Non-End Status\")\n",
    "print(\"Number of rows:\", len(snowflake), '\\n')\n",
    "snowflake_status = snowflake['ORD_STAT_PLFM'].value_counts()\n",
    "print(snowflake_status)"
   ]
  },
  {
   "cell_type": "code",
   "execution_count": 15,
   "metadata": {},
   "outputs": [
    {
     "name": "stdout",
     "output_type": "stream",
     "text": [
      "Lazada Nestle Seller Center vs Snowflake (2024-03-16 - 2024-04-06)\n",
      "          createTime      orderNumber   status      PLFM_ORD_ID ORD_STAT_END ORD_STAT_PLFM  ORDER_DATE\n",
      "0  06 Apr 2024 22:19  821565901372571  shipped  821565901372571      shipped       shipped  2024-04-06\n",
      "1  06 Apr 2024 21:40  821537330912502  shipped  821537330912502    cancelled  shipped_back  2024-04-06\n",
      "2  06 Apr 2024 21:36  821527749240152  shipped  821527749240152      shipped       shipped  2024-04-06\n",
      "3  06 Apr 2024 21:33  815565275040152  shipped  815565275040152      shipped       shipped  2024-04-06\n",
      "4  06 Apr 2024 21:24  815564067748548  shipped  815564067748548      shipped       shipped  2024-04-06 \n",
      "\n",
      "Number of rows: 136870\n",
      "Number of mismatched status: 12\n",
      "Percent mismatched status: 0.01 %\n"
     ]
    }
   ],
   "source": [
    "# Merge the Seller Center and Snowflake DataFrames so we could compare them\n",
    "final_df = pd.merge(seller_center, snowflake, left_on=\"orderNumber\", right_on=\"PLFM_ORD_ID\", how=\"inner\")\n",
    "print(f\"Lazada {shop} Seller Center vs Snowflake ({sf_start_date} - {sf_end_date})\")\n",
    "print(final_df.head(), '\\n')\n",
    "print(\"Number of rows:\", total)\n",
    "\n",
    "# Count the number of mismatched status\n",
    "mismatched_status = final_df[final_df[\"status\"] != final_df[\"ORD_STAT_PLFM\"]]\n",
    "count_mismatched_status = len(mismatched_status)\n",
    "print(\"Number of mismatched status:\", count_mismatched_status)\n",
    "\n",
    "# Calculate percent mismatched status\n",
    "percent_mismatched_status = (count_mismatched_status / total) * 100\n",
    "print(\"Percent mismatched status:\", round(percent_mismatched_status, 2), \"%\")\n"
   ]
  }
 ],
 "metadata": {
  "kernelspec": {
   "display_name": "Python 3",
   "language": "python",
   "name": "python3"
  },
  "language_info": {
   "codemirror_mode": {
    "name": "ipython",
    "version": 3
   },
   "file_extension": ".py",
   "mimetype": "text/x-python",
   "name": "python",
   "nbconvert_exporter": "python",
   "pygments_lexer": "ipython3",
   "version": "3.12.2"
  }
 },
 "nbformat": 4,
 "nbformat_minor": 2
}
