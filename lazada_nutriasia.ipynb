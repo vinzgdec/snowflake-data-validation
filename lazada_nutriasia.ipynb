{
 "cells": [
  {
   "cell_type": "code",
   "execution_count": 22,
   "metadata": {},
   "outputs": [
    {
     "name": "stdout",
     "output_type": "stream",
     "text": [
      "Lazada NutriAsia (Mar 17 - Mar 27).xlsx\n",
      "Number of rows: 73215\n",
      "          createTime      orderNumber     status\n",
      "0  27 Mar 2024 23:59  816525702525203  delivered\n",
      "1  27 Mar 2024 23:59  816525702525203  delivered\n",
      "2  27 Mar 2024 23:59  816525702525203  delivered\n",
      "3  27 Mar 2024 23:59  816505970453376  delivered\n",
      "4  27 Mar 2024 23:59  816489186376290  confirmed \n",
      "\n",
      "Lazada NutriAsia (Mar 28 - Apr 6).xlsx\n",
      "Number of rows: 68107\n",
      "          createTime      orderNumber     status\n",
      "0  06 Apr 2024 23:59  815600697348225  delivered\n",
      "1  06 Apr 2024 23:59  815600697348225  delivered\n",
      "2  06 Apr 2024 23:59  815600697348225  delivered\n",
      "3  06 Apr 2024 23:59  815600697348225  delivered\n",
      "4  06 Apr 2024 23:59  815600697348225  delivered \n",
      "\n"
     ]
    }
   ],
   "source": [
    "import pandas as pd\n",
    "import os\n",
    "import warnings\n",
    "\n",
    "pd.set_option('display.expand_frame_repr', False)\n",
    "warnings.filterwarnings(\"ignore\", message=\"Workbook contains no default style, apply openpyxl's default\")\n",
    "\n",
    "shop = 'NutriAsia'\n",
    "sc_start_date = 'March 16'\n",
    "sc_end_date = 'April 6'\n",
    "\n",
    "# Order Data cannot be extracted from Lazada Seller Center in one go, so we had to break it down into multiple excel files\n",
    "# All excel files from the same shop are stored in one folder\n",
    "folder = f'Lazada Seller Center/{shop}'\n",
    "excel_files = os.listdir(folder)\n",
    "\n",
    "# Loop over all the excel files in the folder and import only the \"orderNumber\" and \"status\" columns\n",
    "dfs = {}\n",
    "for file in excel_files:\n",
    "    file_path = os.path.join(folder, file)\n",
    "    df = pd.read_excel(file_path, usecols=[\"orderNumber\", \"status\", \"createTime\"])\n",
    "    dfs[file] = df\n",
    "\n",
    "# The result will be one DataFrame with \"orderNumber\" and \"status\" columns for each excel file\n",
    "for file, df in dfs.items():\n",
    "    print(file)\n",
    "    print(\"Number of rows:\", len(df))\n",
    "    print(df.head(),'\\n')"
   ]
  },
  {
   "cell_type": "code",
   "execution_count": 51,
   "metadata": {},
   "outputs": [
    {
     "name": "stdout",
     "output_type": "stream",
     "text": [
      "Seller Center Lazada NutriAsia (March 16 - April 6)\n",
      "Number of rows: 141322\n"
     ]
    }
   ],
   "source": [
    "# Merge into one DataFrame\n",
    "seller_center = pd.concat(dfs.values(), keys=dfs.keys(), ignore_index=True)\n",
    "print(f\"Seller Center Lazada {shop} ({sc_start_date} - {sc_end_date})\")\n",
    "print(\"Number of rows:\", len(seller_center))"
   ]
  },
  {
   "cell_type": "code",
   "execution_count": 52,
   "metadata": {},
   "outputs": [
    {
     "name": "stdout",
     "output_type": "stream",
     "text": [
      "Seller Center Lazada NutriAsia (March 16 - April 6)\n",
      "Number of unique rows: 58854\n"
     ]
    }
   ],
   "source": [
    "# Remove duplicate entries\n",
    "seller_center = seller_center.drop_duplicates(subset=['orderNumber'])\n",
    "print(f\"Seller Center Lazada {shop} ({sc_start_date} - {sc_end_date})\")\n",
    "print(\"Number of unique rows:\", len(seller_center))"
   ]
  },
  {
   "cell_type": "code",
   "execution_count": 45,
   "metadata": {},
   "outputs": [
    {
     "name": "stdout",
     "output_type": "stream",
     "text": [
      "Snowflake Lazada NutriAsia (2024-03-16 - 2024-04-06)\n",
      "Number of rows: 149626\n",
      "Number of unique rows: 62585 \n",
      "\n",
      "       PLFM_ORD_ID ORD_STAT_END ORD_STAT_PLFM  ORDER_DATE\n",
      "0  818002305158563    delivered     delivered  2024-03-31\n",
      "1  816777909579847    delivered     confirmed  2024-03-28\n",
      "2  811893627724522    delivered     delivered  2024-03-30\n",
      "3  804429088792271    delivered     confirmed  2024-03-16\n",
      "4  810659430337570    delivered     confirmed  2024-03-28\n"
     ]
    }
   ],
   "source": [
    "# Import Snowflake data into a DataFrame\n",
    "snowflake = pd.read_csv(f'Snowflake/Snowflake Lazada {shop}.csv', usecols=['PLFM_ORD_ID','ORD_STAT_END', 'ORD_STAT_PLFM', 'ORDER_DATE'])\n",
    "\n",
    "# Determine date range of the dataset\n",
    "date_range = pd.date_range(start=snowflake.loc[:, 'ORDER_DATE'].min(), end=snowflake.loc[:, 'ORDER_DATE'].max())\n",
    "sf_start_date = date_range[0].date()\n",
    "sf_end_date = date_range[-1].date()\n",
    "\n",
    "print(f\"Snowflake Lazada {shop} ({sf_start_date} - {sf_end_date})\")\n",
    "print(\"Number of rows:\", len(snowflake))\n",
    "\n",
    "# Remove duplicates\n",
    "snowflake.drop_duplicates(subset=['PLFM_ORD_ID'], inplace=True, ignore_index=True)\n",
    "print(\"Number of unique rows:\", len(snowflake), '\\n')\n",
    "print(snowflake.head())"
   ]
  },
  {
   "cell_type": "code",
   "execution_count": 46,
   "metadata": {},
   "outputs": [
    {
     "name": "stdout",
     "output_type": "stream",
     "text": [
      "Lazada NutriAsia Seller Center vs Snowflake (2024-03-16 - 2024-04-06)\n",
      "          createTime      orderNumber     status      PLFM_ORD_ID ORD_STAT_END ORD_STAT_PLFM  ORDER_DATE\n",
      "0  27 Mar 2024 23:59  816525702525203  delivered  816525702525203    delivered     delivered  2024-03-27\n",
      "1  27 Mar 2024 23:59  816505970453376  delivered  816505970453376    delivered     delivered  2024-03-27\n",
      "2  27 Mar 2024 23:59  816489186376290  confirmed  816489186376290    delivered     confirmed  2024-03-27\n",
      "3  27 Mar 2024 23:59  810634851192589  delivered  810634851192589    delivered     delivered  2024-03-27\n",
      "4  27 Mar 2024 23:59  816481196561736   canceled  816481196561736    cancelled      canceled  2024-03-27 \n",
      "\n",
      "Number of rows: 58826\n",
      "Number of mismatched status: 2184\n",
      "Percent mismatched status: 3.71 %\n"
     ]
    }
   ],
   "source": [
    "# Merge the Seller Center and Snowflake DataFrames so we could compare them\n",
    "merged_df = pd.merge(seller_center, snowflake, left_on=\"orderNumber\", right_on=\"PLFM_ORD_ID\", how=\"inner\")\n",
    "print(f\"Lazada {shop} Seller Center vs Snowflake ({sf_start_date} - {sf_end_date})\")\n",
    "print(merged_df.head(), '\\n')\n",
    "total = len(merged_df)\n",
    "print(\"Number of rows:\", total)\n",
    "\n",
    "# Count the number of mismatched status\n",
    "mismatched_status = merged_df[merged_df[\"status\"] != merged_df[\"ORD_STAT_PLFM\"]]\n",
    "count_mismatched_status = len(mismatched_status)\n",
    "print(\"Number of mismatched status:\", count_mismatched_status)\n",
    "\n",
    "# Calculate percent mismatched status\n",
    "percent_mismatched_status = (count_mismatched_status / total) * 100\n",
    "print(\"Percent mismatched status:\", round(percent_mismatched_status, 2), \"%\")\n"
   ]
  },
  {
   "cell_type": "code",
   "execution_count": 53,
   "metadata": {},
   "outputs": [
    {
     "name": "stdout",
     "output_type": "stream",
     "text": [
      "Seller Center Lazada NutriAsia\n",
      "Number of rows: 58854 \n",
      "\n",
      "status\n",
      "confirmed                          33976\n",
      "delivered                          17107\n",
      "canceled                            6465\n",
      "packed                               599\n",
      "Package Returned                     280\n",
      "shipped                              230\n",
      "In Transit: Returning to seller       77\n",
      "Package scrapped                      43\n",
      "Damaged by 3PL                        35\n",
      "ready_to_ship                         25\n",
      "Lost by 3PL                           16\n",
      "Buyer Delivery Failed                  1\n",
      "Name: count, dtype: int64 \n",
      "\n",
      "\n",
      "Snowflake Lazada NutriAsia\n",
      "Number of rows: 785 \n",
      "\n",
      "ORD_STAT_PLFM\n",
      "packed           635\n",
      "shipped           73\n",
      "shipped_back      57\n",
      "ready_to_ship     20\n",
      "Name: count, dtype: int64 \n",
      "\n",
      "\n",
      "Snowflake Lazada NutriAsia\n",
      "Number of rows: 785 \n",
      "\n",
      "ORD_STAT_END\n",
      "pending      635\n",
      "shipped       73\n",
      "cancelled     57\n",
      "rts           20\n",
      "Name: count, dtype: int64\n"
     ]
    }
   ],
   "source": [
    "# Check possible values of status column and count \n",
    "print(f\"Seller Center Lazada {shop}\")\n",
    "print(\"Number of rows:\", len(seller_center), '\\n')\n",
    "seller_center_status = seller_center['status'].value_counts()\n",
    "print(seller_center_status, '\\n')\n",
    "print()\n",
    "print(f\"Snowflake Lazada {shop}\")\n",
    "print(\"Number of rows:\", len(snowflake), '\\n')\n",
    "snowflake_ORD_STAT_PLFM = snowflake['ORD_STAT_PLFM'].value_counts()\n",
    "print(snowflake_ORD_STAT_PLFM, '\\n')\n",
    "print()\n",
    "print(f\"Snowflake Lazada {shop}\")\n",
    "print(\"Number of rows:\", len(snowflake), '\\n')\n",
    "snowflake_ORD_STAT_END = snowflake['ORD_STAT_END'].value_counts()\n",
    "print(snowflake_ORD_STAT_END)"
   ]
  },
  {
   "cell_type": "code",
   "execution_count": 48,
   "metadata": {},
   "outputs": [
    {
     "name": "stdout",
     "output_type": "stream",
     "text": [
      "Seller Center Lazada NutriAsia Non-End Status\n",
      "Number of rows: 854 \n",
      "\n",
      "status\n",
      "packed           599\n",
      "shipped          230\n",
      "ready_to_ship     25\n",
      "Name: count, dtype: int64 \n",
      "\n",
      "\n",
      "Snowflake Lazada NutriAsia Non-End Status\n",
      "Number of rows: 785 \n",
      "\n",
      "ORD_STAT_PLFM\n",
      "packed           635\n",
      "shipped           73\n",
      "shipped_back      57\n",
      "ready_to_ship     20\n",
      "Name: count, dtype: int64\n"
     ]
    }
   ],
   "source": [
    "# Get non-end status rows (unpaid, packed, shipped, shipped back, ready tp ship)\n",
    "non_end_status = ['unpaid', 'packed', 'shipped','shipped_back', 'ready_to_ship']\n",
    "\n",
    "seller_center = seller_center[seller_center['status'].isin(non_end_status)]\n",
    "snowflake = snowflake[snowflake['ORD_STAT_PLFM'].isin(non_end_status)]\n",
    "\n",
    "print(f\"Seller Center Lazada {shop} Non-End Status\")\n",
    "print(\"Number of rows:\", len(seller_center), '\\n')\n",
    "seller_center_status = seller_center['status'].value_counts()\n",
    "print(seller_center_status, '\\n')\n",
    "print()\n",
    "print(f\"Snowflake Lazada {shop} Non-End Status\")\n",
    "print(\"Number of rows:\", len(snowflake), '\\n')\n",
    "snowflake_status = snowflake['ORD_STAT_PLFM'].value_counts()\n",
    "print(snowflake_status)"
   ]
  },
  {
   "cell_type": "code",
   "execution_count": 49,
   "metadata": {},
   "outputs": [
    {
     "name": "stdout",
     "output_type": "stream",
     "text": [
      "Lazada NutriAsia Seller Center vs Snowflake (2024-03-16 - 2024-04-06)\n",
      "          createTime      orderNumber  status      PLFM_ORD_ID ORD_STAT_END ORD_STAT_PLFM  ORDER_DATE\n",
      "0  27 Mar 2024 23:54  816513929280408  packed  816513929280408      pending        packed  2024-03-27\n",
      "1  27 Mar 2024 22:45  810576496717727  packed  810576496717727      pending        packed  2024-03-27\n",
      "2  27 Mar 2024 21:53  816463913648420  packed  816463913648420      pending        packed  2024-03-27\n",
      "3  27 Mar 2024 21:12  816433130028336  packed  816433130028336      pending        packed  2024-03-27\n",
      "4  27 Mar 2024 21:08  816396391514252  packed  816396391514252      pending        packed  2024-03-27 \n",
      "\n",
      "Number of rows: 58826\n",
      "Number of mismatched status: 12\n",
      "Percent mismatched status: 0.02 %\n"
     ]
    }
   ],
   "source": [
    "# Merge the Seller Center and Snowflake DataFrames so we could compare them\n",
    "final_df = pd.merge(seller_center, snowflake, left_on=\"orderNumber\", right_on=\"PLFM_ORD_ID\", how=\"inner\")\n",
    "print(f\"Lazada {shop} Seller Center vs Snowflake ({sf_start_date} - {sf_end_date})\")\n",
    "print(final_df.head(), '\\n')\n",
    "print(\"Number of rows:\", total)\n",
    "\n",
    "# Count the number of mismatched status\n",
    "mismatched_status = final_df[final_df[\"status\"] != final_df[\"ORD_STAT_PLFM\"]]\n",
    "count_mismatched_status = len(mismatched_status)\n",
    "print(\"Number of mismatched status:\", count_mismatched_status)\n",
    "\n",
    "# Calculate percent mismatched status\n",
    "percent_mismatched_status = (count_mismatched_status / total) * 100\n",
    "print(\"Percent mismatched status:\", round(percent_mismatched_status, 2), \"%\")\n"
   ]
  }
 ],
 "metadata": {
  "kernelspec": {
   "display_name": "Python 3",
   "language": "python",
   "name": "python3"
  },
  "language_info": {
   "codemirror_mode": {
    "name": "ipython",
    "version": 3
   },
   "file_extension": ".py",
   "mimetype": "text/x-python",
   "name": "python",
   "nbconvert_exporter": "python",
   "pygments_lexer": "ipython3",
   "version": "3.12.2"
  }
 },
 "nbformat": 4,
 "nbformat_minor": 2
}
