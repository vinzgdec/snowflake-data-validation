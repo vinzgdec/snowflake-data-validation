{
 "cells": [
  {
   "cell_type": "code",
   "execution_count": 43,
   "metadata": {},
   "outputs": [],
   "source": [
    "import pandas as pd\n",
    "import os\n",
    "import warnings\n",
    "\n",
    "pd.set_option('display.expand_frame_repr', False)\n",
    "warnings.filterwarnings(\"ignore\", message=\"Workbook contains no default style, apply openpyxl's default\")\n",
    "warnings.filterwarnings('ignore', message=\"A value is trying to be set on a copy of a DataFrame\")\n",
    "\n",
    "shop = 'Tiny Buds'"
   ]
  },
  {
   "cell_type": "code",
   "execution_count": 28,
   "metadata": {},
   "outputs": [
    {
     "name": "stdout",
     "output_type": "stream",
     "text": [
      "Order.all.20240316_20240406_part_10_of_14.xlsx\n",
      "Number of rows: 9355\n",
      "Order.all.20240316_20240406_part_11_of_14.xlsx\n",
      "Number of rows: 13546\n",
      "Order.all.20240316_20240406_part_12_of_14.xlsx\n",
      "Number of rows: 12473\n",
      "Order.all.20240316_20240406_part_13_of_14.xlsx\n",
      "Number of rows: 11815\n",
      "Order.all.20240316_20240406_part_14_of_14.xlsx\n",
      "Number of rows: 6178\n",
      "Order.all.20240316_20240406_part_1_of_14.xlsx\n",
      "Number of rows: 9342\n",
      "Order.all.20240316_20240406_part_2_of_14.xlsx\n",
      "Number of rows: 8920\n",
      "Order.all.20240316_20240406_part_3_of_14.xlsx\n",
      "Number of rows: 9796\n",
      "Order.all.20240316_20240406_part_4_of_14.xlsx\n",
      "Number of rows: 9865\n",
      "Order.all.20240316_20240406_part_5_of_14.xlsx\n",
      "Number of rows: 8469\n",
      "Order.all.20240316_20240406_part_6_of_14.xlsx\n",
      "Number of rows: 8522\n",
      "Order.all.20240316_20240406_part_7_of_14.xlsx\n",
      "Number of rows: 8950\n",
      "Order.all.20240316_20240406_part_8_of_14.xlsx\n",
      "Number of rows: 9499\n",
      "Order.all.20240316_20240406_part_9_of_14.xlsx\n",
      "Number of rows: 10417\n"
     ]
    }
   ],
   "source": [
    "# Order Data cannot be extracted from Lazada Seller Center in one go, so we had to break it down into multiple excel files\n",
    "# All excel files from the same shop are stored in one folder\n",
    "folder = f'Shopee Seller Center/{shop}'\n",
    "excel_files = os.listdir(folder)\n",
    "\n",
    "# Loop over all the excel files in the folder and import only the \"orderNumber\" and \"status\" columns\n",
    "dfs = {}\n",
    "for file in excel_files:\n",
    "    file_path = os.path.join(folder, file)\n",
    "    df = pd.read_excel(file_path, usecols=[\"Order ID\", \"Order Status\", \"Order Creation Date\"])\n",
    "    dfs[file] = df\n",
    "\n",
    "# The result will be one DataFrame with \"orderNumber\" and \"status\" columns for each excel file\n",
    "for file, df in dfs.items():\n",
    "    print(file)\n",
    "    print(\"Number of rows:\", len(df))"
   ]
  },
  {
   "cell_type": "code",
   "execution_count": 33,
   "metadata": {},
   "outputs": [
    {
     "name": "stdout",
     "output_type": "stream",
     "text": [
      "SC Shopee Tiny Buds\n",
      "Number of rows: 137147\n",
      "Number of unique rows: 68203\n"
     ]
    }
   ],
   "source": [
    "# Merge into one DataFrame\n",
    "sc_raw = pd.concat(dfs.values(), keys=dfs.keys(), ignore_index=True)\n",
    "count_sc_raw = len(sc_raw)\n",
    "\n",
    "# Remove duplicate entries\n",
    "sc_unique = sc_raw.drop_duplicates(subset=['Order ID'])\n",
    "count_sc_unique = len(sc_unique)\n",
    "\n",
    "print(f\"SC Shopee {shop}\")\n",
    "print(\"Number of rows:\", count_sc_raw)\n",
    "print(\"Number of unique rows:\", count_sc_unique)"
   ]
  },
  {
   "cell_type": "code",
   "execution_count": 42,
   "metadata": {},
   "outputs": [
    {
     "name": "stdout",
     "output_type": "stream",
     "text": [
      "Snowflake Shopee Tiny Buds (2024-03-17 - 2024-04-06)\n",
      "Number of rows: 160248\n",
      "Number of unique rows: 65953\n",
      "Number of non-end status rows: 293\n"
     ]
    },
    {
     "name": "stderr",
     "output_type": "stream",
     "text": [
      "C:\\Users\\User\\AppData\\Local\\Temp\\ipykernel_21052\\451840492.py:31: SettingWithCopyWarning: \n",
      "A value is trying to be set on a copy of a slice from a DataFrame\n",
      "\n",
      "See the caveats in the documentation: https://pandas.pydata.org/pandas-docs/stable/user_guide/indexing.html#returning-a-view-versus-a-copy\n",
      "  snowflake_non_end_status['ORD_STAT_PLFM'].replace(status_mapping, inplace=True)\n"
     ]
    }
   ],
   "source": [
    "# Import Snowflake data into a DataFrame\n",
    "snowflake_raw = pd.read_csv(f'Snowflake/Snowflake Shopee {shop}.csv', usecols=['PLFM_ORD_ID','ORD_STAT_END', 'ORD_STAT_PLFM', 'ORDER_DATE'])\n",
    "count_snowflake_raw = len(snowflake_raw)\n",
    "\n",
    "# Determine date range of the dataset\n",
    "date_range = pd.date_range(start=snowflake_raw.loc[:, 'ORDER_DATE'].min(), end=snowflake_raw.loc[:, 'ORDER_DATE'].max())\n",
    "sf_start_date = date_range[0].date()\n",
    "sf_end_date = date_range[-1].date()\n",
    "\n",
    "# Remove duplicates\n",
    "snowflake_unique = snowflake_raw.drop_duplicates(subset=['PLFM_ORD_ID'], ignore_index=True)\n",
    "count_snowflake_unique = len(snowflake_unique)\n",
    "\n",
    "# Get non-end status rows\n",
    "end_status = ['delivered','cancelled','returned']\n",
    "\n",
    "# The ~ negates the condition 'merged_unique['ORD_STAT_END'].isin(end_status)'\n",
    "snowflake_non_end_status = snowflake_unique[~snowflake_unique['ORD_STAT_END'].isin(end_status)]\n",
    "\n",
    "# Map Snowflake status\n",
    "status_mapping = {\n",
    "  \"READY_TO_SHIP\": \"To ship\",\n",
    "  \"RETRY_SHIP\": \"To ship\",\n",
    "  \"PROCESSED\": \"To ship\",\n",
    "  \"SHIPPED\": \"Shipping\",\n",
    "  \"TO_RETURN\": \"Shipping\",\n",
    "  \"TO_CONFIRM_RECEIVED\": \"Shipping\",\n",
    "  \"COMPLETED\": \"Completed\"\n",
    "}\n",
    "\n",
    "snowflake_non_end_status['ORD_STAT_PLFM'].replace(status_mapping, inplace=True)\n",
    "count_snowflake_non_end_status = len(snowflake_non_end_status)\n",
    "\n",
    "print(f\"Snowflake Shopee {shop} ({sf_start_date} - {sf_end_date})\")\n",
    "print(\"Number of rows:\", count_snowflake_raw)\n",
    "print(\"Number of unique rows:\", count_snowflake_unique)\n",
    "print(\"Number of non-end status rows:\", count_snowflake_non_end_status)"
   ]
  },
  {
   "cell_type": "code",
   "execution_count": 40,
   "metadata": {},
   "outputs": [
    {
     "name": "stdout",
     "output_type": "stream",
     "text": [
      "Shopee Tiny Buds SC vs Snowflake (2024-03-17 - 2024-04-06)\n",
      "           Order ID Order Status Order Creation Date     PLFM_ORD_ID ORD_STAT_END ORD_STAT_PLFM  ORDER_DATE\n",
      "205  240317A33UMVU4    Completed    2024-03-17 11:55  240317A33UMVU4      shipped      Shipping  2024-03-17\n",
      "207  240317B9BVWX8R    Completed    2024-03-17 23:20  240317B9BVWX8R      shipped      Shipping  2024-03-17\n",
      "209  240318D7EB403T    Completed    2024-03-18 17:51  240318D7EB403T      shipped      Shipping  2024-03-18\n",
      "210  240318DTKF25U5    Completed    2024-03-18 23:34  240318DTKF25U5      shipped      Shipping  2024-03-18\n",
      "219  240325VYWCW5ET    Cancelled    2024-03-25 00:19  240325VYWCW5ET       unpaid        UNPAID  2024-03-24\n",
      "220  240325W17BNCWS    Cancelled    2024-03-25 00:42  240325W17BNCWS       unpaid        UNPAID  2024-03-24\n",
      "221  240325W233HHRR    Cancelled    2024-03-25 00:58  240325W233HHRR       unpaid        UNPAID  2024-03-24 \n",
      "\n",
      "Number of rows: 65953\n",
      "Number of mismatched non-end status: 7\n",
      "Percent mismatched non-end status: 0.01 %\n"
     ]
    }
   ],
   "source": [
    "# Merge the Seller Center and Snowflake DataFrames so we could compare them\n",
    "merged_non_end_status = pd.merge(sc_unique, snowflake_non_end_status, left_on=\"Order ID\", right_on=\"PLFM_ORD_ID\", how=\"inner\")\n",
    "count_merged_non_end_status = len(merged_non_end_status)\n",
    "total = count_snowflake_unique\n",
    "\n",
    "# Count the number of mismatched status\n",
    "mismatched_status = merged_non_end_status[merged_non_end_status[\"Order Status\"] != merged_non_end_status[\"ORD_STAT_PLFM\"]]\n",
    "count_mismatched_status = len(mismatched_status)\n",
    "\n",
    "# Calculate percent mismatched status\n",
    "percent_mismatched_status = (count_mismatched_status / total) * 100\n",
    "\n",
    "print(f\"Shopee {shop} SC vs Snowflake ({sf_start_date} - {sf_end_date})\")\n",
    "print(mismatched_status.head(10), '\\n')\n",
    "print(\"Number of rows:\", total)\n",
    "print(\"Number of mismatched non-end status:\", count_mismatched_status)\n",
    "print(\"Percent mismatched non-end status:\", round(percent_mismatched_status, 2), \"%\")\n"
   ]
  }
 ],
 "metadata": {
  "kernelspec": {
   "display_name": "Python 3",
   "language": "python",
   "name": "python3"
  },
  "language_info": {
   "codemirror_mode": {
    "name": "ipython",
    "version": 3
   },
   "file_extension": ".py",
   "mimetype": "text/x-python",
   "name": "python",
   "nbconvert_exporter": "python",
   "pygments_lexer": "ipython3",
   "version": "3.12.2"
  }
 },
 "nbformat": 4,
 "nbformat_minor": 2
}
